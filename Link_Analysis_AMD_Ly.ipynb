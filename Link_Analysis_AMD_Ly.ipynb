{
  "nbformat": 4,
  "nbformat_minor": 0,
  "metadata": {
    "colab": {
      "provenance": [],
      "authorship_tag": "ABX9TyMRiDX0SbIm1nMqJ/ZazQQx",
      "include_colab_link": true
    },
    "kernelspec": {
      "name": "python3",
      "display_name": "Python 3"
    },
    "language_info": {
      "name": "python"
    }
  },
  "cells": [
    {
      "cell_type": "markdown",
      "metadata": {
        "id": "view-in-github",
        "colab_type": "text"
      },
      "source": [
        "<a href=\"https://colab.research.google.com/github/lynguyenp/Link_Analysis_AMD/blob/main/Link_Analysis_AMD_Ly.ipynb\" target=\"_parent\"><img src=\"https://colab.research.google.com/assets/colab-badge.svg\" alt=\"Open In Colab\"/></a>"
      ]
    },
    {
      "cell_type": "markdown",
      "metadata": {
        "id": "xZiRUNdxOV-c"
      },
      "source": [
        "# **1. SETTING UP THE WORKING ENVIRONMENT**"
      ]
    },
    {
      "cell_type": "code",
      "execution_count": null,
      "metadata": {
        "colab": {
          "base_uri": "https://localhost:8080/"
        },
        "id": "gfjK99zXeEks",
        "outputId": "c05489c2-19ee-42e0-9878-5fecdc256455"
      },
      "outputs": [
        {
          "output_type": "stream",
          "name": "stdout",
          "text": [
            "Collecting pyspark\n",
            "  Downloading pyspark-3.4.1.tar.gz (310.8 MB)\n",
            "\u001b[2K     \u001b[90m━━━━━━━━━━━━━━━━━━━━━━━━━━━━━━━━━━━━━━━\u001b[0m \u001b[32m310.8/310.8 MB\u001b[0m \u001b[31m4.5 MB/s\u001b[0m eta \u001b[36m0:00:00\u001b[0m\n",
            "\u001b[?25h  Preparing metadata (setup.py) ... \u001b[?25l\u001b[?25hdone\n",
            "Requirement already satisfied: py4j==0.10.9.7 in /usr/local/lib/python3.10/dist-packages (from pyspark) (0.10.9.7)\n",
            "Building wheels for collected packages: pyspark\n",
            "  Building wheel for pyspark (setup.py) ... \u001b[?25l\u001b[?25hdone\n",
            "  Created wheel for pyspark: filename=pyspark-3.4.1-py2.py3-none-any.whl size=311285398 sha256=43d1adac7245de0e6462db81a8463c9b30435f4dd731a896bfe28b845e407fe5\n",
            "  Stored in directory: /root/.cache/pip/wheels/0d/77/a3/ff2f74cc9ab41f8f594dabf0579c2a7c6de920d584206e0834\n",
            "Successfully built pyspark\n",
            "Installing collected packages: pyspark\n",
            "Successfully installed pyspark-3.4.1\n",
            "Collecting findspark\n",
            "  Downloading findspark-2.0.1-py2.py3-none-any.whl (4.4 kB)\n",
            "Installing collected packages: findspark\n",
            "Successfully installed findspark-2.0.1\n"
          ]
        }
      ],
      "source": [
        "!apt-get install openjdk-8-jdk-headless -qq > /dev/null\n",
        "!wget -q https://dlcdn.apache.org/spark/spark-3.4.0/spark-3.4.0-bin-hadoop3.tgz\n",
        "!tar xf spark-3.4.0-bin-hadoop3.tgz\n",
        "\n",
        "!pip install pyspark\n",
        "!pip install findspark\n",
        "\n",
        "import os\n",
        "os.environ[\"JAVA_HOME\"] = \"/usr/lib/jvm/java-8-openjdk-amd64\"\n",
        "os.environ[\"SPARK_HOME\"] = \"/content/spark-3.4.0-bin-hadoop3\"\n",
        "os.environ[\"HADOOP_HOME\"] = os.environ[\"SPARK_HOME\"]\n",
        "\n",
        "import findspark\n",
        "findspark.init()\n",
        "\n",
        "from pyspark.sql import SparkSession\n",
        "spark = SparkSession.builder.master(\"local[*]\").getOrCreate()\n",
        "# Start Spark session\n",
        "spark = SparkSession.builder.appName(\"LINKANALYSIS\").getOrCreate()\n",
        "\n",
        "from pyspark.context import SparkContext\n",
        "sc = SparkContext.getOrCreate()"
      ]
    },
    {
      "cell_type": "code",
      "execution_count": null,
      "metadata": {
        "id": "q1a8DsK3epnt"
      },
      "outputs": [],
      "source": [
        "# IMPORTING LIBRARIES\n",
        "import zipfile\n",
        "import glob\n",
        "import itertools\n",
        "import networkx as nx\n",
        "import matplotlib.pyplot as plt\n",
        "from functools import reduce\n",
        "from pyspark.sql.functions import lit, collect_set, col, broadcast, expr, collect_list, countDistinct, count\n",
        "from pyspark.sql import functions as F\n",
        "from pyspark.sql.window import Window\n",
        "from pyspark.sql.types import ArrayType, StructType, StructField, StringType"
      ]
    },
    {
      "cell_type": "markdown",
      "metadata": {
        "id": "mj6a-AJGfFih"
      },
      "source": [
        "# **2. LOADING & PREPROCESSING DATA**\n"
      ]
    },
    {
      "cell_type": "code",
      "execution_count": null,
      "metadata": {
        "colab": {
          "base_uri": "https://localhost:8080/"
        },
        "id": "KBdh3xPNfPYo",
        "outputId": "8bcc8ac3-6617-4716-cb09-7a296c202b61"
      },
      "outputs": [
        {
          "output_type": "stream",
          "name": "stdout",
          "text": [
            "Downloading amazon-us-customer-reviews-dataset.zip to /content\n",
            "100% 21.0G/21.0G [04:25<00:00, 57.4MB/s]\n",
            "100% 21.0G/21.0G [04:25<00:00, 84.6MB/s]\n"
          ]
        }
      ],
      "source": [
        "os.environ['KAGGLE_USERNAME'] = \"phuonglynguyen\"\n",
        "os.environ['KAGGLE_KEY'] = \"48e3a8753b051b512a1ec2a8a094531a\"\n",
        "!kaggle datasets download -d cynthiarempel/amazon-us-customer-reviews-dataset"
      ]
    },
    {
      "cell_type": "code",
      "execution_count": null,
      "metadata": {
        "id": "IWqv-77HfSnE"
      },
      "outputs": [],
      "source": [
        "# UNZIP AND EXTRACT ALL THE FILES\n",
        "\n",
        "# Set the zip path\n",
        "zip_path = '/content/amazon-us-customer-reviews-dataset.zip'\n",
        "\n",
        "# Specify the directory to extract the contents of the ZIP file to\n",
        "extract_path = '/content/customer-review'\n",
        "\n",
        "# Open the ZIP file\n",
        "with zipfile.ZipFile(zip_path, 'r') as zip_ref:\n",
        "    # Extract all the contents of the ZIP file to the extract_path directory\n",
        "    zip_ref.extractall(extract_path)\n"
      ]
    },
    {
      "cell_type": "code",
      "execution_count": null,
      "metadata": {
        "colab": {
          "base_uri": "https://localhost:8080/"
        },
        "id": "SDciTMKwJVSc",
        "outputId": "1d3fe6cc-0fc0-4e6f-feca-4242126697b1"
      },
      "outputs": [
        {
          "output_type": "stream",
          "name": "stdout",
          "text": [
            "Total number of rows: 5115666\n",
            "Total number of rows after dropping duplicates: 5115138\n",
            "The final total number of rows: 3143789\n",
            "+-----------+----------+--------------------+\n",
            "|customer_id|product_id|       product_title|\n",
            "+-----------+----------+--------------------+\n",
            "|   44311418|B000C1UAX4|Paradise Eau de P...|\n",
            "|   26227724|B00016XJ4M|Thayers Alcohol-f...|\n",
            "|   41745952|B00HJD8NLY|Even Glow Serum V...|\n",
            "|   44605318|B004UAM2D4|Millennium Moms P...|\n",
            "|   22851022|B005OYTSG4|Ema Jane - Assort...|\n",
            "|   13666852|B00ADQAIQC|High Beams Intens...|\n",
            "|   16398387|B00W1WWQ98|Nero Women's Hand...|\n",
            "|   21085451|B00IH0B2M0|Tree Hut Firming ...|\n",
            "|   30067162|B0048I3B9C|Victoria's Secret...|\n",
            "|   30102189|B00VKEP3Z2|Primal Pit Paste ...|\n",
            "|   15280269|B00URN2ZNK|Philips Sonicare ...|\n",
            "|   51832538|B004FSXYOC|INFINITE SKIN CLA...|\n",
            "|    8196048|B003P7VX24|NaturOli Soap Nut...|\n",
            "|    1063926|B006R8AB0I|Bath and Body Wor...|\n",
            "|   17616366|B000LNHBLW|Wernets Poligrip ...|\n",
            "|   10595946|B006KA23MM|Bundle Monster 40...|\n",
            "|   20562418|B00D2AYHT0|China Glaze: Magn...|\n",
            "|   23132994|B004X324B8|Nairobi Recovery ...|\n",
            "|   32584599|B002QWMMA6|  T1L-82185-V0Parent|\n",
            "|    7899803|B00EPMCBWE|Pro-Optics Nose Pads|\n",
            "+-----------+----------+--------------------+\n",
            "only showing top 20 rows\n",
            "\n"
          ]
        }
      ],
      "source": [
        "# CREATE THE FINAL DATAFRAME\n",
        "\n",
        "# Define a directory\n",
        "directory = glob.glob('/content/customer-review/*.tsv')\n",
        "\n",
        "# Extracted dataset file\n",
        "dfiles = [f for f in directory if 'Beauty' in f]\n",
        "\n",
        "# Creating a dataframe\n",
        "for file in dfiles:\n",
        "  datasets = [spark.read.csv(file, sep='\\t', header=True, inferSchema=True).select(['customer_id', 'product_id', 'product_title'])]\n",
        "  product_dataframe = reduce(lambda df1, df2: df1.unionAll(df2), datasets)\n",
        "row_count = product_dataframe.count()\n",
        "print(\"Total number of rows:\", row_count)\n",
        "\n",
        "# Dropping duplicates\n",
        "product_dataframe = product_dataframe.dropDuplicates()\n",
        "row_count = product_dataframe.count()\n",
        "print(\"Total number of rows after dropping duplicates:\", row_count)\n",
        "\n",
        "# Dropping customers who have less than two reviews\n",
        "product_count = product_dataframe.groupby('customer_id').count().withColumnRenamed('count', 'product_count')\n",
        "product_dataframe = product_dataframe.join(broadcast(product_count), 'customer_id',).filter(product_count['product_count'] > 1).drop('product_count')\n",
        "\n",
        "row_count = product_dataframe.count()\n",
        "print(\"The final total number of rows:\", row_count) # 3.143.789\n",
        "\n",
        "product_dataframe.show(20)"
      ]
    },
    {
      "cell_type": "markdown",
      "metadata": {
        "id": "FHMwlt_oJdXU"
      },
      "source": [
        "# **3. CONSTRUCTING PRODUCT LINKS**"
      ]
    },
    {
      "cell_type": "code",
      "execution_count": null,
      "metadata": {
        "colab": {
          "base_uri": "https://localhost:8080/"
        },
        "id": "xL-h7VWfNnAD",
        "outputId": "c86984f8-f3c4-474c-b5b0-5ddb0e392635"
      },
      "outputs": [
        {
          "output_type": "execute_result",
          "data": {
            "text/plain": [
              "[Row(customer_id=10128, grouped_product=['B008Q8XJKQ', 'B008Q8XIVQ', 'B00DEX61F8']),\n",
              " Row(customer_id=10206, grouped_product=['B00F90Y21O', 'B00ACN2Q84']),\n",
              " Row(customer_id=10236, grouped_product=['B003842346', 'B00761YIQ8', 'B00BMHWSPA']),\n",
              " Row(customer_id=10266, grouped_product=['B005FOPQT6', 'B0077PLO06', 'B00140RXHS']),\n",
              " Row(customer_id=10293, grouped_product=['B00LLAYCXE', 'B00OQAZ9FG', 'B00NM7NU6E', 'B00OQAZGL8', 'B00OQAZ9TM']),\n",
              " Row(customer_id=10348, grouped_product=['B00NTR9B6A', 'B003SZ4C1W', 'B003IU9HI0', 'B00027EG9C']),\n",
              " Row(customer_id=10368, grouped_product=['B00BISHCC2', 'B003AGK628', 'B003HL9TMY', 'B004TSFEBY']),\n",
              " Row(customer_id=10485, grouped_product=['B006NBBOIC', 'B00DCBHI2W', 'B007EEXE5S']),\n",
              " Row(customer_id=10517, grouped_product=['B004YDWNHC', 'B000C1VX6M']),\n",
              " Row(customer_id=10562, grouped_product=['B000NLJFNY', 'B0061DPB04'])]"
            ]
          },
          "metadata": {},
          "execution_count": 6
        }
      ],
      "source": [
        "# Grouping products by customers\n",
        "grouped_product = product_dataframe.groupBy(\"customer_id\").agg(collect_set(\"product_id\").alias(\"grouped_product\"))\n",
        "\n",
        "grouped_product.take(10)"
      ]
    },
    {
      "cell_type": "code",
      "execution_count": null,
      "metadata": {
        "colab": {
          "base_uri": "https://localhost:8080/"
        },
        "id": "SHVHl4_o_tON",
        "outputId": "c98f3bfa-18e8-49ad-ac96-701be4a2c5b4"
      },
      "outputs": [
        {
          "output_type": "stream",
          "name": "stdout",
          "text": [
            "+----------+----------+\n",
            "| product_1| product_2|\n",
            "+----------+----------+\n",
            "|B008Q8XJKQ|B008Q8XIVQ|\n",
            "|B008Q8XJKQ|B00DEX61F8|\n",
            "|B008Q8XIVQ|B008Q8XJKQ|\n",
            "|B008Q8XIVQ|B00DEX61F8|\n",
            "|B00DEX61F8|B008Q8XJKQ|\n",
            "|B00DEX61F8|B008Q8XIVQ|\n",
            "|B00F90Y21O|B00ACN2Q84|\n",
            "|B00ACN2Q84|B00F90Y21O|\n",
            "|B003842346|B00761YIQ8|\n",
            "|B003842346|B00BMHWSPA|\n",
            "+----------+----------+\n",
            "only showing top 10 rows\n",
            "\n"
          ]
        }
      ],
      "source": [
        "# Creating product links\n",
        "schema = ArrayType(StructType([\n",
        "    StructField(\"product_1\", StringType()),\n",
        "    StructField(\"product_2\", StringType())]))\n",
        "\n",
        "product_links_udf = F.udf(lambda x: list(itertools.permutations(x, 2)), schema)\n",
        "\n",
        "product_links = grouped_product.withColumn(\"grouped_product\", F.explode(product_links_udf(F.col(\"grouped_product\")))) \\\n",
        "    .selectExpr(\"grouped_product.*\")\n",
        "\n",
        "product_links.show(10)"
      ]
    },
    {
      "cell_type": "markdown",
      "metadata": {
        "id": "qhnySq6jJ5IS"
      },
      "source": [
        "# **4. CONSTRUCTING THE TRANSITION MATRIX**"
      ]
    },
    {
      "cell_type": "code",
      "execution_count": null,
      "metadata": {
        "colab": {
          "base_uri": "https://localhost:8080/"
        },
        "id": "hTzr2_nPd73S",
        "outputId": "12aa6ff5-dcb9-4774-f908-5442f7b83eb2"
      },
      "outputs": [
        {
          "output_type": "stream",
          "name": "stdout",
          "text": [
            "+----------+----------+--------------------+\n",
            "| product_1| product_2|         probability|\n",
            "+----------+----------+--------------------+\n",
            "|1304139220|B0050PQGNK|0.012195121951219513|\n",
            "|1304139220|1304495396|0.012195121951219513|\n",
            "|1304139220|B00D0NMMSM|0.012195121951219513|\n",
            "|1304139220|B005F7IWFI|0.012195121951219513|\n",
            "|1304139220|B00CL3GUAI|0.012195121951219513|\n",
            "|1304139220|1304174867|0.012195121951219513|\n",
            "|1304139220|B004FF93Q8|0.012195121951219513|\n",
            "|1304139220|1304622193|0.012195121951219513|\n",
            "|1304139220|B0047EC83W|0.012195121951219513|\n",
            "|1304139220|B00AEX9JBY|0.012195121951219513|\n",
            "|1304139220|B007QE1JKI|0.012195121951219513|\n",
            "|1304139220|B004XQXST2|0.012195121951219513|\n",
            "|1304139220|B003G9PMHI|0.012195121951219513|\n",
            "|1304139220|B00CK2L21W|0.012195121951219513|\n",
            "|1304139220|B003TA7MZ4|0.012195121951219513|\n",
            "|1304139220|130414674X|0.012195121951219513|\n",
            "|1304139220|B004AS7JV6|0.012195121951219513|\n",
            "|1304139220|B004AHF1O4|0.012195121951219513|\n",
            "|1304139220|B003TMO3EU|0.012195121951219513|\n",
            "|1304139220|B00GM7HM3I|0.012195121951219513|\n",
            "+----------+----------+--------------------+\n",
            "only showing top 20 rows\n",
            "\n"
          ]
        }
      ],
      "source": [
        "# Calculate the sum for each unique value in 'product_1'\n",
        "count_product_1 = product_links.groupBy('product_1').agg(count(\"*\").alias(\"count\"))\n",
        "\n",
        "# Join the product_links dataframe with the count_product_1 dataframe\n",
        "mid_transition_matrix = product_links.join(count_product_1, 'product_1')\n",
        "\n",
        "# Calculate the transition probability for each entry\n",
        "transition_matrix = mid_transition_matrix.withColumn(\"probability\", 1 / col('count')).drop('count')\n",
        "\n",
        "transition_matrix.show(20)"
      ]
    },
    {
      "cell_type": "markdown",
      "metadata": {
        "id": "qTtLdnrUOEyg"
      },
      "source": [
        "# **5. PAGE RANK CALCULATION**"
      ]
    },
    {
      "cell_type": "code",
      "execution_count": null,
      "metadata": {
        "colab": {
          "base_uri": "https://localhost:8080/"
        },
        "id": "SmMAEP7tHlzT",
        "outputId": "94b9ab61-4fda-4541-e0ac-899ca981942a"
      },
      "outputs": [
        {
          "output_type": "stream",
          "name": "stdout",
          "text": [
            "+----------+--------------------+\n",
            "|   product|           page_rank|\n",
            "+----------+--------------------+\n",
            "|B003TMO3EU|2.178592280811831E-6|\n",
            "|B0091JI3YG|2.178592280811831E-6|\n",
            "|B0067F28ZW|2.178592280811831E-6|\n",
            "|B00TSQX6BW|2.178592280811831E-6|\n",
            "|B00SDPCKFC|2.178592280811831E-6|\n",
            "|B00VR0WOFQ|2.178592280811831E-6|\n",
            "|B002UEH3M2|2.178592280811831E-6|\n",
            "|B00TRLGT5S|2.178592280811831E-6|\n",
            "|B000B626ZK|2.178592280811831E-6|\n",
            "|B005IDV0XU|2.178592280811831E-6|\n",
            "+----------+--------------------+\n",
            "only showing top 10 rows\n",
            "\n"
          ]
        }
      ],
      "source": [
        "# INITIAL VALUE\n",
        "\n",
        "n = transition_matrix.select(\"product_2\").distinct().count()\n",
        "\n",
        "initial_value = (1.0 / n)\n",
        "\n",
        "page_rank = transition_matrix.select('product_2').distinct().withColumn('page_rank', lit(initial_value)).withColumnRenamed('product_2', 'product')\n",
        "\n",
        "#page_rank_rdd = page_rank.rdd\n",
        "\n",
        "page_rank.show(10)"
      ]
    },
    {
      "cell_type": "code",
      "execution_count": null,
      "metadata": {
        "colab": {
          "base_uri": "https://localhost:8080/",
          "height": 1000
        },
        "id": "NOMhL6zHh1A0",
        "outputId": "9d17cd87-a0a0-4b6d-fc13-b1d44fab0c01"
      },
      "outputs": [
        {
          "output_type": "stream",
          "name": "stdout",
          "text": [
            "Iteration: 1, Total_distance: 2.1678718924855613e-05\n",
            "Iteration: 2, Total_distance: 1.6249310051065845e-06\n",
            "Iteration: 3, Total_distance: 2.741249437985978e-07\n",
            "Iteration: 4, Total_distance: 1.297461313995385e-07\n",
            "Iteration: 5, Total_distance: 6.70618846475035e-08\n",
            "Iteration: 6, Total_distance: 3.7546934281090224e-08\n",
            "Iteration: 7, Total_distance: 2.2335058989531047e-08\n",
            "Iteration: 8, Total_distance: 1.4003116480200776e-08\n",
            "Iteration: 9, Total_distance: 9.249650690592226e-09\n",
            "Iteration: 10, Total_distance: 6.4855648469641665e-09\n",
            "Iteration: 11, Total_distance: 4.775576457943916e-09\n",
            "Iteration: 12, Total_distance: 3.719517428047669e-09\n",
            "Iteration: 13, Total_distance: 3.010149317495592e-09\n",
            "Iteration: 14, Total_distance: 2.5430383630146263e-09\n",
            "Iteration: 15, Total_distance: 2.203405343446187e-09\n"
          ]
        }
      ],
      "source": [
        "tolerance = 2.5e-9\n",
        "iteration = 1\n",
        "max_iterations = 30\n",
        "\n",
        "while iteration < max_iterations:\n",
        "  mid_page_rank = (transition_matrix\n",
        "            .join(page_rank, transition_matrix.product_1 == page_rank.product)\n",
        "            .withColumn('mid_page_rank', (col('page_rank') * col('probability')).cast('double'))\n",
        "            .groupBy(transition_matrix.product_2)\n",
        "            .agg(F.sum('mid_page_rank').alias('mid_page_rank')))\n",
        "\n",
        "\n",
        "  la_distance = (mid_page_rank\n",
        "            .join(page_rank, mid_page_rank.product_2 == page_rank.product)\n",
        "            .withColumn('distance', F.abs((col('mid_page_rank') - col('page_rank'))**2))\n",
        "            .agg(F.sum('distance').alias('total_distance'))\n",
        "            .collect()[0]['total_distance'])\n",
        "  print(f\"Iteration: {iteration}, Total_distance: {la_distance}\")\n",
        "\n",
        "  if la_distance < tolerance:\n",
        "    page_rank = mid_page_rank.withColumnRenamed('mid_page_rank', 'page_rank').withColumnRenamed('product_2', 'product')\n",
        "    break\n",
        "\n",
        "  page_rank = mid_page_rank.withColumnRenamed('mid_page_rank', 'page_rank').withColumnRenamed('product_2', 'product')\n",
        "  iteration += 1\n"
      ]
    },
    {
      "cell_type": "code",
      "execution_count": null,
      "metadata": {
        "colab": {
          "base_uri": "https://localhost:8080/"
        },
        "id": "W3Vp4tT67RDP",
        "outputId": "29cc54b2-bcfe-45ae-8dfe-68aa995cfb85"
      },
      "outputs": [
        {
          "name": "stdout",
          "output_type": "stream",
          "text": [
            "+----------+--------------------+\n",
            "|   product|           page_rank|\n",
            "+----------+--------------------+\n",
            "|B003TMO3EU|2.478929763914152E-5|\n",
            "|B0091JI3YG|7.071317469191621E-6|\n",
            "|B0067F28ZW|2.040237077181946E-4|\n",
            "|B00RV6MF4A|5.911311401567683E-7|\n",
            "|B00MW7U4FU|4.758264399925538E-6|\n",
            "|B004HSO124|8.401630469703312E-5|\n",
            "|B0018SA31O|4.127750619886106...|\n",
            "|B00H7L5ZRS|1.025543896908267...|\n",
            "|B00DO77SUG|5.342078913194232E-7|\n",
            "|B003Z4QHP0| 4.33998360583395E-5|\n",
            "+----------+--------------------+\n",
            "only showing top 10 rows\n",
            "\n"
          ]
        }
      ],
      "source": [
        "page_rank.show(10)"
      ]
    },
    {
      "cell_type": "code",
      "execution_count": null,
      "metadata": {
        "colab": {
          "base_uri": "https://localhost:8080/"
        },
        "id": "Yd7OmGxV9v8R",
        "outputId": "3eebd9be-397c-4fc1-ef66-6e1df90b4784"
      },
      "outputs": [
        {
          "name": "stdout",
          "output_type": "stream",
          "text": [
            "Top five products:\n",
            "Row(product='B0049LUI9O', page_rank=0.0005670479421548141)\n",
            "Row(product='B0043OYFKU', page_rank=0.0006307481388758013)\n",
            "Row(product='B00DPE9EQO', page_rank=0.0006551653014446416)\n",
            "Row(product='B001MA0QY2', page_rank=0.000676126380261458)\n",
            "Row(product='B0014P8L9W', page_rank=0.0007073837925858547)\n",
            "Bottom five products:\n",
            "Row(product='B00GBEUZGI', page_rank=1.361561776350261e-08)\n",
            "Row(product='B00CUYZ5Y0', page_rank=1.3716519558940939e-08)\n",
            "Row(product='B00V5FMWIM', page_rank=1.4124060951145538e-08)\n",
            "Row(product='B0006IVMG2', page_rank=1.4148257192682262e-08)\n",
            "Row(product='B000E9BZGU', page_rank=1.4197607818895075e-08)\n"
          ]
        }
      ],
      "source": [
        "# Sort the DataFrame by \"page_rank\" column in ascending order\n",
        "sorted_page_rank = page_rank.orderBy(col(\"page_rank\"))\n",
        "\n",
        "# Select the top five products by page_rank\n",
        "top_five = sorted_page_rank.head(5)\n",
        "print(\"Top five products:\")\n",
        "for row in top_five:\n",
        "    print(row)\n",
        "\n",
        "# Select the bottom five products by page_rank\n",
        "bottom_five = sorted_page_rank.tail(5)\n",
        "print(\"Bottom five products:\")\n",
        "for row in bottom_five:\n",
        "    print(row)"
      ]
    }
  ]
}